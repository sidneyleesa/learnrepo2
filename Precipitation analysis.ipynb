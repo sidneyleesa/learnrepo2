{
    "cells": [
        {
            "cell_type": "markdown",
            "metadata": {},
            "source": "# Description\n\n"
        },
        {
            "cell_type": "code",
            "execution_count": 1,
            "metadata": {},
            "outputs": [
                {
                    "name": "stdout",
                    "output_type": "stream",
                    "text": "Waiting for a Spark session to start...\nSpark Initialization Done! ApplicationId = app-20200904113733-0000\nKERNEL_ID = 9299a3af-ec80-4d85-844c-638cfd86bdc5\n"
                },
                {
                    "data": {
                        "text/plain": "[Row(Country or Area='Albania', 1990='28385.0', 1995='40311.0', 1996='0.0', 1997='0.0', 1998='0.0', 1999='38284.0', 2000='30683.0', 2001='30491.0', 2002='35883.0', 2003='27893.0', 2004='42787.0', 2005='42840.0', 2006='32380.0', 2007='30964.0', 2008='0.0', 2009='0.0'),\n Row(Country or Area='Algeria', 1990='76160.0', 1995='90270.0', 1996='53380.0', 1997='74460.0', 1998='66470.0', 1999='50150.0', 2000='64430.0', 2001='43840.0', 2002='37317.0', 2003='0.0', 2004='0.0', 2005='0.0', 2006='0.0', 2007='0.0', 2008='100000.0', 2009='0.0'),\n Row(Country or Area='Andorra', 1990='539.947998047', 1995='510.67300415', 1996='560.340026855', 1997='434.475006104', 1998='254.0', 1999='450.151000977', 2000='518.666015625', 2001='456.62600708', 2002='565.559020996', 2003='566.583007812', 2004='567.044006348', 2005='530.278015137', 2006='353.220001221', 2007='306.630004883', 2008='0.0', 2009='0.0'),\n Row(Country or Area='Anguilla', 1990='93.0999984741', 1995='100.730003357', 1996='0.0', 1997='0.0', 1998='0.0', 1999='0.0', 2000='68.1900024414', 2001='70.7300033569', 2002='68.1900024414', 2003='108.769996643', 2004='84.25', 2005='124.400001526', 2006='99.5500030518', 2007='86.2900009155', 2008='96.8899993896', 2009='71.0800018311'),\n Row(Country or Area='Antigua and Barbuda', 1990='300.299987793', 1995='374.5', 1996='323.299987793', 1997='279.200012207', 1998='384.5', 1999='426.799987793', 2000='249.600006104', 2001='238.0', 2002='268.600006104', 2003='253.899993896', 2004='426.899993896', 2005='371.0', 2006='332.799987793', 2007='293.600006104', 2008='392.5', 2009='276.899993896')]"
                    },
                    "execution_count": 1,
                    "metadata": {},
                    "output_type": "execute_result"
                }
            ],
            "source": "# The code was removed by Watson Studio for sharing."
        },
        {
            "cell_type": "code",
            "execution_count": null,
            "metadata": {},
            "outputs": [],
            "source": ""
        }
    ],
    "metadata": {
        "kernelspec": {
            "display_name": "Python 3.6 with Spark",
            "language": "python3",
            "name": "python36"
        },
        "language_info": {
            "codemirror_mode": {
                "name": "ipython",
                "version": 3
            },
            "file_extension": ".py",
            "mimetype": "text/x-python",
            "name": "python",
            "nbconvert_exporter": "python",
            "pygments_lexer": "ipython3",
            "version": "3.6.8"
        }
    },
    "nbformat": 4,
    "nbformat_minor": 1
}